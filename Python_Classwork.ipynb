{
  "nbformat": 4,
  "nbformat_minor": 0,
  "metadata": {
    "colab": {
      "provenance": [],
      "authorship_tag": "ABX9TyM7AL6SXmZnqkcOqehr/8VK",
      "include_colab_link": true
    },
    "kernelspec": {
      "name": "python3",
      "display_name": "Python 3"
    },
    "language_info": {
      "name": "python"
    }
  },
  "cells": [
    {
      "cell_type": "markdown",
      "metadata": {
        "id": "view-in-github",
        "colab_type": "text"
      },
      "source": [
        "<a href=\"https://colab.research.google.com/github/FarotimiOladeji/Python-Class-Practice/blob/main/Python_Classwork.ipynb\" target=\"_parent\"><img src=\"https://colab.research.google.com/assets/colab-badge.svg\" alt=\"Open In Colab\"/></a>"
      ]
    },
    {
      "cell_type": "code",
      "execution_count": null,
      "metadata": {
        "colab": {
          "base_uri": "https://localhost:8080/"
        },
        "id": "XGgz82GJEAtP",
        "outputId": "719152b6-a454-42c0-f9d0-a369094d8cea"
      },
      "outputs": [
        {
          "output_type": "stream",
          "name": "stdout",
          "text": [
            "Mounted at /content/drive\n"
          ]
        }
      ],
      "source": [
        "from google.colab import drive\n",
        "drive.mount('/content/drive')\n"
      ]
    },
    {
      "cell_type": "code",
      "source": [
        "import pandas as pd\n",
        "df = pd.read_csv('/content/drive/My Drive/Titanic-Dataset - Titanic-Dataset.csv')\n"
      ],
      "metadata": {
        "id": "erJe4sjGXAVt"
      },
      "execution_count": null,
      "outputs": []
    },
    {
      "cell_type": "markdown",
      "source": [
        "# New Section"
      ],
      "metadata": {
        "id": "c_gWma1XXGGi"
      }
    },
    {
      "cell_type": "code",
      "source": [
        "from google.colab import drive\n",
        "drive.mount('/content/drive')"
      ],
      "metadata": {
        "colab": {
          "base_uri": "https://localhost:8080/"
        },
        "id": "a8-nbTpgXKtV",
        "outputId": "bbd15f79-7326-448f-fe7c-68f3400bd918"
      },
      "execution_count": 3,
      "outputs": [
        {
          "output_type": "stream",
          "name": "stdout",
          "text": [
            "Mounted at /content/drive\n"
          ]
        }
      ]
    },
    {
      "cell_type": "code",
      "source": [
        "import pandas as pd\n",
        "df = pd.read_csv('/content/drive/MyDrive/Titanic-Dataset - Titanic-Dataset.csv')\n"
      ],
      "metadata": {
        "id": "vBvT0x5GX6Hz"
      },
      "execution_count": 4,
      "outputs": []
    },
    {
      "cell_type": "code",
      "source": [
        "#How many rows and columns are in the dataset?"
      ],
      "metadata": {
        "id": "eD73vmBPZtqR"
      },
      "execution_count": null,
      "outputs": []
    },
    {
      "cell_type": "code",
      "source": [
        "df.shape\n"
      ],
      "metadata": {
        "colab": {
          "base_uri": "https://localhost:8080/"
        },
        "id": "6DxefD0HZlf1",
        "outputId": "60fc4afd-daca-4dcc-f049-443ab7b87cd7"
      },
      "execution_count": 5,
      "outputs": [
        {
          "output_type": "execute_result",
          "data": {
            "text/plain": [
              "(891, 12)"
            ]
          },
          "metadata": {},
          "execution_count": 5
        }
      ]
    },
    {
      "cell_type": "code",
      "source": [
        "#What are the column names?\n",
        "print(df.columns)"
      ],
      "metadata": {
        "colab": {
          "base_uri": "https://localhost:8080/"
        },
        "id": "WJaUOQj4Z2Nk",
        "outputId": "98ec2eb0-81fe-4a8b-ec73-35e040a31a7a"
      },
      "execution_count": 6,
      "outputs": [
        {
          "output_type": "stream",
          "name": "stdout",
          "text": [
            "Index(['PassengerId', 'Survived', 'Pclass', 'Name', 'Sex', 'Age', 'SibSp',\n",
            "       'Parch', 'Ticket', 'Fare', 'Cabin', 'Embarked'],\n",
            "      dtype='object')\n"
          ]
        }
      ]
    },
    {
      "cell_type": "code",
      "source": [
        "#How many passengers survived?\n",
        "print(df['Survived'].value_counts()[1])"
      ],
      "metadata": {
        "colab": {
          "base_uri": "https://localhost:8080/"
        },
        "id": "7zHj9Wscbm0i",
        "outputId": "7d6f723e-cb05-40f8-bade-b58fa92c2a97"
      },
      "execution_count": 7,
      "outputs": [
        {
          "output_type": "stream",
          "name": "stdout",
          "text": [
            "342\n"
          ]
        }
      ]
    },
    {
      "cell_type": "code",
      "source": [
        "#How many males and females are there?\n",
        "print(df['Sex'].value_counts())"
      ],
      "metadata": {
        "colab": {
          "base_uri": "https://localhost:8080/"
        },
        "id": "t5VdeGNZb9v7",
        "outputId": "be15fb30-37ca-46a7-ce87-bc8aaf005807"
      },
      "execution_count": 8,
      "outputs": [
        {
          "output_type": "stream",
          "name": "stdout",
          "text": [
            "Sex\n",
            "male      577\n",
            "female    314\n",
            "Name: count, dtype: int64\n"
          ]
        }
      ]
    },
    {
      "cell_type": "code",
      "source": [
        "#What is the average age of passengers?\n",
        "print(df['Age'].mean())"
      ],
      "metadata": {
        "colab": {
          "base_uri": "https://localhost:8080/"
        },
        "id": "26ivo8HFcmiu",
        "outputId": "69179a79-3aa4-4ab3-bf44-406042b8de08"
      },
      "execution_count": 9,
      "outputs": [
        {
          "output_type": "stream",
          "name": "stdout",
          "text": [
            "29.69911764705882\n"
          ]
        }
      ]
    },
    {
      "cell_type": "code",
      "source": [
        "#What is the minimum and maximum fare paid?\n",
        "print(df['Fare'].min())\n",
        "print(df['Fare'].max())"
      ],
      "metadata": {
        "colab": {
          "base_uri": "https://localhost:8080/"
        },
        "id": "8gx9-skwcwTM",
        "outputId": "d49ff8b9-1ec5-4274-fcee-b90bca187e3d"
      },
      "execution_count": 10,
      "outputs": [
        {
          "output_type": "stream",
          "name": "stdout",
          "text": [
            "0.0\n",
            "512.3292\n"
          ]
        }
      ]
    },
    {
      "cell_type": "code",
      "source": [
        "#How many unique ticket numbers are there?\n",
        "print(df['Ticket'].nunique())"
      ],
      "metadata": {
        "colab": {
          "base_uri": "https://localhost:8080/"
        },
        "id": "0IabJwRUdbW3",
        "outputId": "7806d0bf-8cce-47b7-9d6c-00e2c647af2f"
      },
      "execution_count": 11,
      "outputs": [
        {
          "output_type": "stream",
          "name": "stdout",
          "text": [
            "681\n"
          ]
        }
      ]
    },
    {
      "cell_type": "code",
      "source": [
        "#How many passengers have missing Age values?\n",
        "print(df['Age'].isnull().sum())"
      ],
      "metadata": {
        "colab": {
          "base_uri": "https://localhost:8080/"
        },
        "id": "pD4X_VZMeOao",
        "outputId": "ceb76667-775f-4d17-e7f1-0109552a3348"
      },
      "execution_count": 12,
      "outputs": [
        {
          "output_type": "stream",
          "name": "stdout",
          "text": [
            "177\n"
          ]
        }
      ]
    },
    {
      "cell_type": "code",
      "source": [
        "#What is the survival rate for males vs females?\n",
        "print(df.groupby('Sex')['Survived'].mean()*100)"
      ],
      "metadata": {
        "colab": {
          "base_uri": "https://localhost:8080/"
        },
        "id": "UwcMdzVgfP7e",
        "outputId": "63c2bb32-6ef2-4002-e0f3-86c5c2bbb633"
      },
      "execution_count": null,
      "outputs": [
        {
          "output_type": "stream",
          "name": "stdout",
          "text": [
            "Sex\n",
            "female    74.203822\n",
            "male      18.890815\n",
            "Name: Survived, dtype: float64\n"
          ]
        }
      ]
    },
    {
      "cell_type": "code",
      "source": [
        "#How many people survived in each passenger class?\n",
        "print(df.groupby('Pclass')['Survived'].sum())"
      ],
      "metadata": {
        "colab": {
          "base_uri": "https://localhost:8080/"
        },
        "id": "e-yqnh0_mEw-",
        "outputId": "4f1b1e1e-a77d-4157-a6de-f20ac7653917"
      },
      "execution_count": 13,
      "outputs": [
        {
          "output_type": "stream",
          "name": "stdout",
          "text": [
            "Pclass\n",
            "1    136\n",
            "2     87\n",
            "3    119\n",
            "Name: Survived, dtype: int64\n"
          ]
        }
      ]
    },
    {
      "cell_type": "code",
      "source": [
        "#What is the average age of survivors vs non-survivors?#\n",
        "print(df.groupby('Survived')['Age'].mean())"
      ],
      "metadata": {
        "colab": {
          "base_uri": "https://localhost:8080/"
        },
        "id": "qu9_YsbiDe9V",
        "outputId": "3cf1098b-102a-472f-ad4f-a5a92fd0da97"
      },
      "execution_count": 14,
      "outputs": [
        {
          "output_type": "stream",
          "name": "stdout",
          "text": [
            "Survived\n",
            "0    30.626179\n",
            "1    28.343690\n",
            "Name: Age, dtype: float64\n"
          ]
        }
      ]
    },
    {
      "cell_type": "code",
      "source": [
        "#What is the average fare for each passenger class?#\n",
        "print(df.groupby('Pclass')['Fare'].mean())"
      ],
      "metadata": {
        "colab": {
          "base_uri": "https://localhost:8080/"
        },
        "id": "ENwegpgJFtbT",
        "outputId": "f4acac23-89b5-4ac3-facd-b7227fda4e90"
      },
      "execution_count": 15,
      "outputs": [
        {
          "output_type": "stream",
          "name": "stdout",
          "text": [
            "Pclass\n",
            "1    84.154687\n",
            "2    20.662183\n",
            "3    13.675550\n",
            "Name: Fare, dtype: float64\n"
          ]
        }
      ]
    },
    {
      "cell_type": "code",
      "source": [
        "#Did more people embark from Cherbourg, Queenstown, or Southampton?#\n",
        "print(df['Embarked'].value_counts())"
      ],
      "metadata": {
        "colab": {
          "base_uri": "https://localhost:8080/"
        },
        "id": "69SL3_OYGkAZ",
        "outputId": "114c7f69-9dc5-4867-98fa-bb1f8c47b234"
      },
      "execution_count": 16,
      "outputs": [
        {
          "output_type": "stream",
          "name": "stdout",
          "text": [
            "Embarked\n",
            "S    644\n",
            "C    168\n",
            "Q     77\n",
            "Name: count, dtype: int64\n"
          ]
        }
      ]
    },
    {
      "cell_type": "code",
      "source": [
        "#Which port had the highest survival rate? #\n",
        "print(df.groupby('Embarked')['Survived'].mean()*100)"
      ],
      "metadata": {
        "colab": {
          "base_uri": "https://localhost:8080/"
        },
        "id": "GhZei0xOHIWw",
        "outputId": "2e514f79-af63-4c03-c979-a745c5a6f30c"
      },
      "execution_count": 17,
      "outputs": [
        {
          "output_type": "stream",
          "name": "stdout",
          "text": [
            "Embarked\n",
            "C    55.357143\n",
            "Q    38.961039\n",
            "S    33.695652\n",
            "Name: Survived, dtype: float64\n"
          ]
        }
      ]
    },
    {
      "cell_type": "code",
      "source": [
        "#What is the survival rate for each combination of gender and passenger class?#\n",
        "print(df.groupby(['Sex','Pclass'])['Survived'].mean()*100)"
      ],
      "metadata": {
        "colab": {
          "base_uri": "https://localhost:8080/"
        },
        "id": "qlx8gHMtHZ64",
        "outputId": "b4e043b5-0e85-4120-df62-5c0db236f2b7"
      },
      "execution_count": 23,
      "outputs": [
        {
          "output_type": "stream",
          "name": "stdout",
          "text": [
            "Sex     Pclass\n",
            "female  1         96.808511\n",
            "        2         92.105263\n",
            "        3         50.000000\n",
            "male    1         36.885246\n",
            "        2         15.740741\n",
            "        3         13.544669\n",
            "Name: Survived, dtype: float64\n"
          ]
        }
      ]
    },
    {
      "cell_type": "code",
      "source": [
        "#What is the average fare for survivors and non-survivors in each class?#\n",
        "print(df.groupby(['Pclass','Survived'])['Fare'].mean())"
      ],
      "metadata": {
        "colab": {
          "base_uri": "https://localhost:8080/"
        },
        "id": "YD6uueNmmAKG",
        "outputId": "fd261773-83b1-4084-ccd9-7d1f80e1367d"
      },
      "execution_count": 24,
      "outputs": [
        {
          "output_type": "stream",
          "name": "stdout",
          "text": [
            "Pclass  Survived\n",
            "1       0           64.684007\n",
            "        1           95.608029\n",
            "2       0           19.412328\n",
            "        1           22.055700\n",
            "3       0           13.669364\n",
            "        1           13.694887\n",
            "Name: Fare, dtype: float64\n"
          ]
        }
      ]
    },
    {
      "cell_type": "code",
      "source": [
        "#How does survival vary by passenger class and embarkation port? #\n",
        "print(df.groupby(['Embarked','Pclass'])['Survived'].mean()*100)"
      ],
      "metadata": {
        "colab": {
          "base_uri": "https://localhost:8080/"
        },
        "id": "C0fda1V9oHmJ",
        "outputId": "551cbfb2-8b93-4ba1-9896-c0db1c70424c"
      },
      "execution_count": 28,
      "outputs": [
        {
          "output_type": "stream",
          "name": "stdout",
          "text": [
            "Embarked  Pclass\n",
            "C         1         69.411765\n",
            "          2         52.941176\n",
            "          3         37.878788\n",
            "Q         1         50.000000\n",
            "          2         66.666667\n",
            "          3         37.500000\n",
            "S         1         58.267717\n",
            "          2         46.341463\n",
            "          3         18.980170\n",
            "Name: Survived, dtype: float64\n"
          ]
        }
      ]
    },
    {
      "cell_type": "code",
      "source": [
        "#Who paid the highest fare? Show their name, class, and survival status.#\n",
        "print(df.groupby(['Name','Pclass','Survived'])['Fare'].max())"
      ],
      "metadata": {
        "colab": {
          "base_uri": "https://localhost:8080/"
        },
        "id": "_CjLfRMGqL84",
        "outputId": "3515bead-c73a-4391-dd00-f4583a8df10c"
      },
      "execution_count": 35,
      "outputs": [
        {
          "output_type": "stream",
          "name": "stdout",
          "text": [
            "Name                                   Pclass  Survived\n",
            "Abbing, Mr. Anthony                    3       0            7.5500\n",
            "Abbott, Mr. Rossmore Edward            3       0           20.2500\n",
            "Abbott, Mrs. Stanton (Rosa Hunt)       3       1           20.2500\n",
            "Abelson, Mr. Samuel                    2       0           24.0000\n",
            "Abelson, Mrs. Samuel (Hannah Wizosky)  2       1           24.0000\n",
            "                                                            ...   \n",
            "de Mulder, Mr. Theodore                3       1            9.5000\n",
            "de Pelsmaeker, Mr. Alfons              3       0            9.5000\n",
            "del Carlo, Mr. Sebastiano              2       0           27.7208\n",
            "van Billiard, Mr. Austin Blyler        3       0           14.5000\n",
            "van Melkebeke, Mr. Philemon            3       0            9.5000\n",
            "Name: Fare, Length: 891, dtype: float64\n"
          ]
        }
      ]
    },
    {
      "cell_type": "code",
      "source": [
        "#What is the average age for male vs female survivors in each class? #\n",
        "print(df.groupby(['Sex','Survived','Pclass'])['Age'].mean())"
      ],
      "metadata": {
        "colab": {
          "base_uri": "https://localhost:8080/"
        },
        "id": "VXtEoLeNs104",
        "outputId": "ca10bf88-f2e6-48a8-ce6d-99210369cb9b"
      },
      "execution_count": 37,
      "outputs": [
        {
          "output_type": "stream",
          "name": "stdout",
          "text": [
            "Sex     Survived  Pclass\n",
            "female  0         1         25.666667\n",
            "                  2         36.000000\n",
            "                  3         23.818182\n",
            "        1         1         34.939024\n",
            "                  2         28.080882\n",
            "                  3         19.329787\n",
            "male    0         1         44.581967\n",
            "                  2         33.369048\n",
            "                  3         27.255814\n",
            "        1         1         36.248000\n",
            "                  2         16.022000\n",
            "                  3         22.274211\n",
            "Name: Age, dtype: float64\n"
          ]
        }
      ]
    },
    {
      "cell_type": "markdown",
      "source": [],
      "metadata": {
        "id": "30E7UJR8tAjp"
      }
    }
  ]
}