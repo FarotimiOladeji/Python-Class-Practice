{
  "cells": [
    {
      "cell_type": "markdown",
      "metadata": {
        "id": "e0Mg3CWFDM__"
      },
      "source": [
        "Write a python program to get the largest number from the List"
      ]
    },
    {
      "cell_type": "code",
      "execution_count": null,
      "metadata": {
        "id": "qlEC-VAqBBMW"
      },
      "outputs": [],
      "source": [
        "numbers=[60.20,80,10,70,30,60,40,50,10]"
      ]
    },
    {
      "cell_type": "code",
      "execution_count": null,
      "metadata": {
        "id": "UXHzwDBNE9eo"
      },
      "outputs": [],
      "source": [
        "largest_number=numbers[0]"
      ]
    },
    {
      "cell_type": "code",
      "execution_count": null,
      "metadata": {
        "id": "bPCVfTLCFRaw"
      },
      "outputs": [],
      "source": [
        "for number in numbers:\n",
        "  if number>largest_number:\n",
        "    largest_number = number"
      ]
    },
    {
      "cell_type": "code",
      "execution_count": null,
      "metadata": {
        "colab": {
          "base_uri": "https://localhost:8080/"
        },
        "id": "RAKrck2ZF27h",
        "outputId": "d3f4a31e-8791-4df1-9a1c-8bfd409db042"
      },
      "outputs": [
        {
          "name": "stdout",
          "output_type": "stream",
          "text": [
            "the largest number in the list is: 80\n"
          ]
        }
      ],
      "source": [
        "print(\"the largest number in the list is:\",largest_number)"
      ]
    },
    {
      "cell_type": "markdown",
      "metadata": {
        "id": "quY9AQBxGn-K"
      },
      "source": [
        "Write a python program to get the smallest number from the list"
      ]
    },
    {
      "cell_type": "code",
      "execution_count": null,
      "metadata": {
        "id": "8O0lBvUpG5tB"
      },
      "outputs": [],
      "source": [
        "numbers=[60,20,80,70,30,60,40,50,10]"
      ]
    },
    {
      "cell_type": "code",
      "execution_count": null,
      "metadata": {
        "id": "CeMJbzg5HhT1"
      },
      "outputs": [],
      "source": [
        "smallest_number=numbers[4]"
      ]
    },
    {
      "cell_type": "code",
      "execution_count": null,
      "metadata": {
        "id": "eeAbiottH1L3"
      },
      "outputs": [],
      "source": [
        "for number in numbers:\n",
        "  if number<smallest_number:\n",
        "    smallest_number=number"
      ]
    },
    {
      "cell_type": "code",
      "execution_count": null,
      "metadata": {
        "colab": {
          "base_uri": "https://localhost:8080/"
        },
        "id": "rEW3qh35IQm8",
        "outputId": "76b5dcd3-25b8-4a5c-e7b9-e274313a62d5"
      },
      "outputs": [
        {
          "name": "stdout",
          "output_type": "stream",
          "text": [
            "the smallest number in the list is: 10\n"
          ]
        }
      ],
      "source": [
        "print(\"the smallest number in the list is:\",smallest_number)"
      ]
    },
    {
      "cell_type": "markdown",
      "metadata": {
        "id": "0LdsL1LDNRka"
      },
      "source": [
        "Write a python script to add a key to a dictionary"
      ]
    },
    {
      "cell_type": "code",
      "execution_count": null,
      "metadata": {
        "id": "gwtPKtWMNbhG"
      },
      "outputs": [],
      "source": [
        "staff_1={'firstname':'john','lastname':'kennedy','staff_id':4447}"
      ]
    },
    {
      "cell_type": "code",
      "execution_count": null,
      "metadata": {
        "colab": {
          "base_uri": "https://localhost:8080/",
          "height": 35
        },
        "id": "cKS05yVON6U9",
        "outputId": "e71e0f1e-aef9-4232-e26c-cd1f0ff52f65"
      },
      "outputs": [
        {
          "data": {
            "application/vnd.google.colaboratory.intrinsic+json": {
              "type": "string"
            },
            "text/plain": [
              "'john'"
            ]
          },
          "execution_count": 19,
          "metadata": {},
          "output_type": "execute_result"
        }
      ],
      "source": [
        "staff_1['firstname']"
      ]
    },
    {
      "cell_type": "code",
      "execution_count": null,
      "metadata": {
        "colab": {
          "base_uri": "https://localhost:8080/",
          "height": 35
        },
        "id": "JwzNt3xwN_rV",
        "outputId": "202f0d44-9695-423b-d659-cf0a3597fafd"
      },
      "outputs": [
        {
          "data": {
            "application/vnd.google.colaboratory.intrinsic+json": {
              "type": "string"
            },
            "text/plain": [
              "'kennedy'"
            ]
          },
          "execution_count": 20,
          "metadata": {},
          "output_type": "execute_result"
        }
      ],
      "source": [
        "staff_1['lastname']"
      ]
    },
    {
      "cell_type": "code",
      "execution_count": null,
      "metadata": {
        "colab": {
          "base_uri": "https://localhost:8080/"
        },
        "id": "eIChuyUWODbs",
        "outputId": "d5a78465-d284-42cf-820a-ab5fe8bff35f"
      },
      "outputs": [
        {
          "data": {
            "text/plain": [
              "4447"
            ]
          },
          "execution_count": 21,
          "metadata": {},
          "output_type": "execute_result"
        }
      ],
      "source": [
        "staff_1['staff_id']"
      ]
    },
    {
      "cell_type": "markdown",
      "metadata": {
        "id": "PuYIou8RPgMI"
      },
      "source": [
        "Write a python script to merge two python dictionaries"
      ]
    },
    {
      "cell_type": "code",
      "execution_count": null,
      "metadata": {
        "id": "t1E7yaQ9PqgQ"
      },
      "outputs": [],
      "source": [
        "shirt={\"color\":\"white\",\"material\":\"wool\",\"size\":\"x_large\",\"value\":\"$500\"}"
      ]
    },
    {
      "cell_type": "code",
      "execution_count": null,
      "metadata": {
        "colab": {
          "base_uri": "https://localhost:8080/"
        },
        "id": "PYmEN0smQis2",
        "outputId": "e16c6404-e126-4160-bc06-b9f6dad448a6"
      },
      "outputs": [
        {
          "name": "stdout",
          "output_type": "stream",
          "text": [
            "shirt dictionary: {'color': 'white', 'material': 'wool', 'size': 'x_large', 'value': '$500'}\n"
          ]
        }
      ],
      "source": [
        "print(\"shirt dictionary:\",shirt)"
      ]
    },
    {
      "cell_type": "code",
      "execution_count": null,
      "metadata": {
        "id": "nhmYlq7aTiOn"
      },
      "outputs": [],
      "source": [
        "shirt[\"delivery address\"]=\"234 yorke avenue\""
      ]
    },
    {
      "cell_type": "code",
      "execution_count": null,
      "metadata": {
        "colab": {
          "base_uri": "https://localhost:8080/"
        },
        "id": "wm5MNEqFTyje",
        "outputId": "e59ff342-379b-4d31-c756-fbf3084f7a4e"
      },
      "outputs": [
        {
          "data": {
            "text/plain": [
              "{'color': 'white',\n",
              " 'material': 'wool',\n",
              " 'size': 'x_large',\n",
              " 'value': '$500',\n",
              " 'delivery address': '234 yorke avenue'}"
            ]
          },
          "execution_count": 44,
          "metadata": {},
          "output_type": "execute_result"
        }
      ],
      "source": [
        "shirt"
      ]
    },
    {
      "cell_type": "markdown",
      "metadata": {
        "id": "yVvYOZEjUTwc"
      },
      "source": [
        "Write a python script to remove a key from a dictionary"
      ]
    },
    {
      "cell_type": "code",
      "execution_count": null,
      "metadata": {
        "id": "-QVrB418UgGQ"
      },
      "outputs": [],
      "source": [
        "del shirt[\"material\"]"
      ]
    },
    {
      "cell_type": "code",
      "execution_count": null,
      "metadata": {
        "colab": {
          "base_uri": "https://localhost:8080/"
        },
        "id": "WsDRzuxFVaMx",
        "outputId": "e1d1a01c-d6a4-424d-a9b2-4759185b284c"
      },
      "outputs": [
        {
          "data": {
            "text/plain": [
              "{'color': 'white',\n",
              " 'size': 'x_large',\n",
              " 'value': '$500',\n",
              " 'delivery address': '234 yorke avenue'}"
            ]
          },
          "execution_count": 47,
          "metadata": {},
          "output_type": "execute_result"
        }
      ],
      "source": [
        "shirt"
      ]
    },
    {
      "cell_type": "markdown",
      "metadata": {
        "id": "cVMxqZJlANNW"
      },
      "source": [
        "Write a python program to convert a list to a tuple"
      ]
    },
    {
      "cell_type": "code",
      "execution_count": null,
      "metadata": {
        "id": "3t4UxZCdAWLP"
      },
      "outputs": [],
      "source": [
        "my_list=[20,40,60,80,100]"
      ]
    },
    {
      "cell_type": "code",
      "execution_count": null,
      "metadata": {
        "id": "E_93JT4_Ajhp"
      },
      "outputs": [],
      "source": [
        "my_tuple=tuple(my_list)"
      ]
    },
    {
      "cell_type": "code",
      "execution_count": null,
      "metadata": {
        "colab": {
          "base_uri": "https://localhost:8080/"
        },
        "id": "mTlpv8JaAuQB",
        "outputId": "ec708475-4dcf-4cab-ebd1-c2be70cbb8cd"
      },
      "outputs": [
        {
          "name": "stdout",
          "output_type": "stream",
          "text": [
            "original list: [20, 40, 60, 80, 100]\n"
          ]
        }
      ],
      "source": [
        "print(\"original list:\",my_list)"
      ]
    },
    {
      "cell_type": "code",
      "execution_count": null,
      "metadata": {
        "colab": {
          "base_uri": "https://localhost:8080/"
        },
        "id": "0s4TuZQPBE9W",
        "outputId": "4f42f68c-969c-416a-d921-08dd2f5acef1"
      },
      "outputs": [
        {
          "name": "stdout",
          "output_type": "stream",
          "text": [
            "converted tuple: (20, 40, 60, 80, 100)\n"
          ]
        }
      ],
      "source": [
        "print(\"converted tuple:\",my_tuple)"
      ]
    }
  ],
  "metadata": {
    "colab": {
      "provenance": []
    },
    "kernelspec": {
      "display_name": "Python 3",
      "name": "python3"
    },
    "language_info": {
      "name": "python"
    }
  },
  "nbformat": 4,
  "nbformat_minor": 0
}
